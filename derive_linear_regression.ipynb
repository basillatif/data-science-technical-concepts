{
 "cells": [
  {
   "cell_type": "code",
   "execution_count": 7,
   "metadata": {},
   "outputs": [],
   "source": [
    "import numpy as np"
   ]
  },
  {
   "cell_type": "code",
   "execution_count": 8,
   "metadata": {},
   "outputs": [],
   "source": [
    "# Given data points\n",
    "X = np.array([1.1, 2.2, 3.1, 4.1, 5.2])\n",
    "Y = np.array([2.1, 4.1, 5.2, 4.3, 5.1])"
   ]
  },
  {
   "cell_type": "code",
   "execution_count": 9,
   "metadata": {},
   "outputs": [],
   "source": [
    "# Compute the mean of X and Y\n",
    "X_mean = np.mean(X)\n",
    "Y_mean = np.mean(Y)"
   ]
  },
  {
   "cell_type": "code",
   "execution_count": 10,
   "metadata": {},
   "outputs": [],
   "source": [
    "# Compute slope (a) and intercept (b) using least squares formula\n",
    "a = np.sum((X - X_mean) * (Y - Y_mean)) / np.sum((X - X_mean) ** 2)\n",
    "b = Y_mean - a * X_mean"
   ]
  },
  {
   "cell_type": "code",
   "execution_count": 11,
   "metadata": {},
   "outputs": [
    {
     "name": "stdout",
     "output_type": "stream",
     "text": [
      "Expected Y value for X = 6.3: 6.11\n"
     ]
    }
   ],
   "source": [
    "# Predict Y for X = 6.3\n",
    "x_new = 6.3\n",
    "y_pred = a * x_new + b\n",
    "\n",
    "print(f\"Expected Y value for X = {x_new}: {y_pred:.2f}\")"
   ]
  },
  {
   "cell_type": "code",
   "execution_count": null,
   "metadata": {},
   "outputs": [],
   "source": []
  },
  {
   "cell_type": "code",
   "execution_count": null,
   "metadata": {},
   "outputs": [],
   "source": []
  }
 ],
 "metadata": {
  "kernelspec": {
   "display_name": "base",
   "language": "python",
   "name": "python3"
  },
  "language_info": {
   "codemirror_mode": {
    "name": "ipython",
    "version": 3
   },
   "file_extension": ".py",
   "mimetype": "text/x-python",
   "name": "python",
   "nbconvert_exporter": "python",
   "pygments_lexer": "ipython3",
   "version": "3.12.7"
  }
 },
 "nbformat": 4,
 "nbformat_minor": 2
}
